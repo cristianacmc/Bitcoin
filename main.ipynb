{
 "cells": [
  {
   "cell_type": "code",
   "execution_count": 2,
   "metadata": {},
   "outputs": [],
   "source": [
    "# Importing the required libaries\n",
    "import pyodbc\n",
    "import pandas as pd \n",
    "\n",
    "# Setting up a connection to my SQL Server instance and database. Here this is a *Trusted Connection* and does not require login details\n",
    "conn = pyodbc.connect('Driver={SQL Server};'\n",
    "                      'Server=DESKTOP-J5R1BFO;'\n",
    "                      'Database=Bitcoin;'\n",
    "                      'Trusted_Connection=yes;')"
   ]
  },
  {
   "cell_type": "code",
   "execution_count": 3,
   "metadata": {},
   "outputs": [
    {
     "name": "stdout",
     "output_type": "stream",
     "text": [
      "  Column 0 24h_volume_usd available_supply            id last_updated  \\\n",
      "0        0    22081300000         16785225       bitcoin   1515230661   \n",
      "1        1     5221370000      38739144847        ripple   1515230641   \n",
      "2        2     5705690000         96803840      ethereum   1515230649   \n",
      "3        3     1569900000         16896225  bitcoin-cash   1515230652   \n",
      "4        4      428305000      25927070538       cardano   1515230654   \n",
      "\n",
      "  market_cap_usd      max_supply          name percent_change_1h  \\\n",
      "0   284909052105      21000000.0       Bitcoin             -0.42   \n",
      "1   119207709132  100000000000.0        Ripple             -0.26   \n",
      "2   100115499075                      Ethereum              0.29   \n",
      "3    44424061657      21000000.0  Bitcoin Cash              0.03   \n",
      "4    25916647856   45000000000.0       Cardano              0.39   \n",
      "\n",
      "  percent_change_24h percent_change_7d   price_btc price_usd rank symbol  \\\n",
      "0               5.76             26.04         1.0   16973.8    1    BTC   \n",
      "1              -9.23             24.15  0.00018601   3.07719    2    XRP   \n",
      "2              -1.04             45.01   0.0625169   1034.21    3    ETH   \n",
      "3               7.99              2.81    0.158934   2629.23    4    BCH   \n",
      "4              -5.87             64.99   6.042e-05  0.999598    5    ADA   \n",
      "\n",
      "  total_supply  \n",
      "0     16785225  \n",
      "1  99993093880  \n",
      "2     96803840  \n",
      "3     16896225  \n",
      "4  31112483745  \n"
     ]
    },
    {
     "name": "stderr",
     "output_type": "stream",
     "text": [
      "C:\\Users\\cmdas\\AppData\\Local\\Packages\\PythonSoftwareFoundation.Python.3.10_qbz5n2kfra8p0\\LocalCache\\local-packages\\Python310\\site-packages\\pandas\\io\\sql.py:761: UserWarning: pandas only support SQLAlchemy connectable(engine/connection) ordatabase string URI or sqlite3 DBAPI2 connectionother DBAPI2 objects are not tested, please consider using SQLAlchemy\n",
      "  warnings.warn(\n"
     ]
    }
   ],
   "source": [
    "# Now that I have a connection, here I'm using the read_sql_query method to create a dataframe from my server connection. \n",
    "# This will read the query i give it and create a new dataframe object from the query results.\n",
    "dec6 = pd.read_sql_query('SELECT TOP 100 * FROM coinmarketcap_06012018', conn)\n",
    "\n",
    "# Now I want to print the head of my dataframe object\n",
    "print(dec6.head())"
   ]
  },
  {
   "cell_type": "code",
   "execution_count": null,
   "metadata": {},
   "outputs": [],
   "source": []
  }
 ],
 "metadata": {
  "kernelspec": {
   "display_name": "Python 3.10.5 64-bit (windows store)",
   "language": "python",
   "name": "python3"
  },
  "language_info": {
   "codemirror_mode": {
    "name": "ipython",
    "version": 3
   },
   "file_extension": ".py",
   "mimetype": "text/x-python",
   "name": "python",
   "nbconvert_exporter": "python",
   "pygments_lexer": "ipython3",
   "version": "3.10.5"
  },
  "orig_nbformat": 4,
  "vscode": {
   "interpreter": {
    "hash": "124e4026440973594a65c7cd175aa3cedbdcf8b07447207b985f69d01169abd7"
   }
  }
 },
 "nbformat": 4,
 "nbformat_minor": 2
}
